{
  "nbformat": 4,
  "nbformat_minor": 0,
  "metadata": {
    "colab": {
      "provenance": [],
      "collapsed_sections": [],
      "toc_visible": true,
      "authorship_tag": "ABX9TyMP1XBNSWVrgQF8Fcr8M4CV",
      "include_colab_link": true
    },
    "kernelspec": {
      "name": "python3",
      "display_name": "Python 3"
    },
    "language_info": {
      "name": "python"
    }
  },
  "cells": [
    {
      "cell_type": "markdown",
      "metadata": {
        "id": "view-in-github",
        "colab_type": "text"
      },
      "source": [
        "<a href=\"https://colab.research.google.com/github/ImagingDataCommons/crdc_compound_objects/blob/main/CRDC_compound_object.ipynb\" target=\"_parent\"><img src=\"https://colab.research.google.com/assets/colab-badge.svg\" alt=\"Open In Colab\"/></a>"
      ]
    },
    {
      "cell_type": "markdown",
      "source": [
        "# Intro\n",
        "\n",
        "This notebook investigates a compound object replacement for DRS bundles. The compound object is a JSON structure that is intended to be extensible in support of various use cases. This is a strawman proposal.\n",
        "\n",
        "This notebook explores this proposed compound object as it cooud be used to represent IDC DICOM series objects. "
      ],
      "metadata": {
        "id": "Vswlv6Yd-25l"
      }
    },
    {
      "cell_type": "markdown",
      "source": [
        "# Compound objects\n",
        "\n",
        "The DRS URI of an IDC DICOM instance can be resolved to obtain the location of the corresponding file object no matter where it is available. Similarly, it should be possible to resolve a DRS URI of an IDC DICOM series to obtain the location(s) of the DICOM instance data of which it is composed.\n",
        "\n",
        "This instance data might take different forms. For example, in addition to an individual GCS 'blob' for each DICOM instance in the series, there might also be an archive , such as a zip, that includes all the instances in the series.\n",
        "\n",
        "For this purpose we have defined a compound object, a JSON data structure, that contains DRS URLs that can be resolved to various embodiments of the corresponding series. We expect that the same structure can be used to represent other complex objects in other use cases.\n",
        "\n",
        "The proposed compound object is very loosely based on the DrsObject, but with significant modifications. Rather than include a formal JSON schema, we will show an example that might be used to represent an IDC series.\n",
        "\n",
        "Such a schema can be found [here](https://docs.google.com/document/d/1fvXneaDOlnqdl-nhhwkEbv_2sbTE5FTNRSXDay76q1E/edit).\n",
        "\n",
        "Here us an example of such a compound object that one might have obtain by resolving the DRS URI of a particular IDC series:\n",
        "```\n",
        "{\n",
        "  \"encoding_version\": \"1.0\",\n",
        "  \"description\": \"IDC CRDC DICOM series compound object\",\n",
        "  \"object_type\": \"DICOM series\",\n",
        "  \"id\": \"0190fe71-7144-40ae-a24c-c8d21a99317d\",\n",
        "  \"name\": \"1.3.6.1.4.1.14519.5.2.1.8421.4018.242623218081388666714980416901\",\n",
        "  \"self_uri\": \"drs://dg.4DFC/0190fe71-7144-40ae-a24c-c8d21a99317d\",\n",
        "  \"access_methods\": [\n",
        "    {\n",
        "      \"access_method\": \"children\",\n",
        "      \"mime_type\": 'application/dicom'\n",
        "      \"description\": \"List of DRS URIs of instances in this series\",\n",
        "      \"contents\": [\n",
        "        {\n",
        "          \"name\": \"1.3.6.1.4.1.14519.5.2.1.8421.4018.218816382845480339633358956983\",\n",
        "          \"drs_uri\": \"drs://dg.4DFC/01210a30-8395-498c-905f-6667db67101a\"\n",
        "        },\n",
        "        {\n",
        "          \"name\": \"1.3.6.1.4.1.14519.5.2.1.8421.4018.241858580971386059648748116938\",\n",
        "          \"drs_uri\": \"drs://dg.4DFC/01b37013-7484-4968-8a9a-3a6b28c457e9\"\n",
        "        },\n",
        "        :\n",
        "        :\n",
        "        :\n",
        "        {\n",
        "          \"name\": \"1.3.6.1.4.1.14519.5.2.1.8421.4018.306949952402324943719349396501\",\n",
        "          \"drs_uri\": \"drs://dg.4DFC/fb8a3f58-3e6d-48c5-8ed7-08aac223213e\"\n",
        "        }\n",
        "      ]\n",
        "    },\n",
        "    {\n",
        "      \"method\": \"folder_object\",\n",
        "      \"mime_type\": 'application/json'\n",
        "      \"description\": \"DRS URI that resolves to a gs or s3 folder object corresponding to this series\",\n",
        "      \"contents\": [\n",
        "        {\n",
        "          \"name\": \"1.3.6.1.4.1.14519.5.2.1.8421.4018.242623218081388666714980416901\",\n",
        "          \"drs_uri\": \"drs://dg.4DFC/some_TBD_uuid\"\n",
        "        }\n",
        "      ]\n",
        "    },\n",
        "    {\n",
        "      \"method\": \"archive_package\",\n",
        "      \"mime_type\": 'application/zip'\n",
        "      \"description\": \"DRS URI that resolves to a zip archive of the instances in this series\",\n",
        "      \"contents\": [\n",
        "        {\n",
        "          \"name\": \"1.3.6.1.4.1.14519.5.2.1.8421.4018.242623218081388666714980416901.zip\",\n",
        "          \"drs_uri\": \"drs://dg.4DFC/some_TBD_uuid\"\n",
        "        }\n",
        "      ]\n",
        "    }\n",
        "  ],\n",
        "  \"aliases\": []\n",
        "}\n",
        "```"
      ],
      "metadata": {
        "id": "PhueDPTqBFh2"
      }
    },
    {
      "cell_type": "markdown",
      "source": [
        "The `description`, `id`, `name`, and `self_uri` fields are approximately as defined in the DrsObject. The `encoding_version` field is added in the expectation that this JSON structure might need revision. The `object_type` provides a way to document the ype of object represented by this object (but the `description` might be sufficient for that purpose).\n",
        "\n",
        "When used to represent an IDC DICOM series, the value of `id` could be the the `series_uuid` (A UUID4 assigned to a version of a DICOM series) of the series, and the value of `name` could be the DICOM SOPInstanceUID of the series.\n",
        "\n",
        "The `access_methods` field, while having the same name as a field in the DrsObject, is very different. The `access_methods` recognizes that there may be more than one 'embodiment' or method of accessing the same object.\n",
        "\n",
        "In the case of an DICOM series in the IDC data set, the series might be embodied as the set of GCS (and, at some future time, S3) DICOM instance blobs and accessed by resolving a DRS URI for each such instance. Another possible/expected method is as an archive such as a zip, again embodied as a GCS or S3 blob. A third such method could be as a GCS or S3 'directory' that contains the instances in the series.\n",
        "\n",
        "Rather than define an IDC specific compound object for this purpose, we have tried to specify a JSON encoding that is somewhat self describing and adaptable to other use cases. Admittedly, the goal of supporting arbitrary access types requires some use case specific knowledge on the part of the user. Specifically, in the case of the IDC DICOM series compound object, the user must know that they are looking for a 'children' method and/or a 'folder_object' method and/or an 'archive_package' method. That is, other methods might be defined in support of other use cases, and which have different `method` IDs.\n",
        "\n",
        "Each access_method has:\n",
        "*  a `method`, a string that identifies the method,\n",
        "*  a `mime_type`, the mime_type of the data element(s) to which each DRS URI in the `contents` array resolves \n",
        "*  a `description`, an arbitrary use-case specific string \n",
        "*  a `contents` array, each element of which is \n",
        " * an `id`, an arbitrary use-case specific string, \n",
        " * a `drs_uri`, a DRS URI that can be resolved to some object.\n",
        "\n",
        "At a very high level, the expectation is that, having obtained such a compound object, the user will find the access_method of interest by searching for some `method` string. Having found such an access method, the user will proceed to select one or more elements from the contents array, perhaps based on the `id` value, and then proceed to resolve the corresponding DRS_URI. In subsequent sections, we'll demonstrate this process.\n",
        "\n",
        "Note that we will refer to the CRDC compound object of an IDC DICOM series as a `series object`. "
      ],
      "metadata": {
        "id": "qkkyoEOOFpRN"
      }
    },
    {
      "cell_type": "markdown",
      "source": [
        "# Demo\n",
        "We've populated a GCS bucket, `cdrcobj`, with a selected set of series from the [NLST collection](https://doi.org/10.7937/tcia.hmq8-j677\n",
        ").\n",
        "\n",
        "Instances have hierarchical names like `<series_uuid>/<instance_uuid>.dcm` as described in the [Hierarchical Instance Names](https://github.com/ImagingDataCommons/crdc_compound_objects/blob/main/Hierarchical_Instance_Names.ipynb) notebook."
      ],
      "metadata": {
        "id": "Nn8k_uLKkaZN"
      }
    },
    {
      "cell_type": "markdown",
      "source": [
        "## Demo config"
      ],
      "metadata": {
        "id": "Nh_XBKTpxBxD"
      }
    },
    {
      "cell_type": "code",
      "source": [
        "demo_bucket = 'crdcobj'"
      ],
      "metadata": {
        "id": "52g7MeAa11gF"
      },
      "execution_count": null,
      "outputs": []
    },
    {
      "cell_type": "markdown",
      "source": [
        "The jq JSON processor is useful for inspecting JSON:"
      ],
      "metadata": {
        "id": "ZB63N50uGLXK"
      }
    },
    {
      "cell_type": "code",
      "source": [
        "!apt -qq update\n",
        "!apt -qq install jq"
      ],
      "metadata": {
        "id": "Ip6E9LIhGcze"
      },
      "execution_count": null,
      "outputs": []
    },
    {
      "cell_type": "markdown",
      "source": [
        "In order to access GCS, we first authenticate to Colab:"
      ],
      "metadata": {
        "id": "iX2msn_Cu-Rf"
      }
    },
    {
      "cell_type": "code",
      "source": [
        "from google.colab import auth\n",
        "auth.authenticate_user()"
      ],
      "metadata": {
        "id": "IA7SR0nVvN1j"
      },
      "execution_count": null,
      "outputs": []
    },
    {
      "cell_type": "markdown",
      "source": [
        "We'll be using the GCS libraries and the Requests modul"
      ],
      "metadata": {
        "id": "9fzsqyPyR9uI"
      }
    },
    {
      "cell_type": "code",
      "source": [
        "import os\n",
        "import shutil\n",
        "import json\n",
        "from google.cloud import storage\n",
        "from google.cloud.storage import Blob\n",
        "import requests\n",
        "client = storage.Client()\n",
        "bucket = client.bucket(demo_bucket)"
      ],
      "metadata": {
        "id": "_oohwLeZN3ga"
      },
      "execution_count": null,
      "outputs": []
    },
    {
      "cell_type": "markdown",
      "source": [
        "## Series objects\n",
        "For each series in the demo dataset, we have also created a series object, a CRDC object representing a DICOM series, like the example above . Each has a GCS URL like:\n",
        "`gs://crdcobj/<series_uuid>/crdcobj.json`\n",
        "We might have obtained such a GCS URL from an IDC cohort manifest or from a BQ query. In that case we can get the series object using gsutil or other tools. We'll assume that we have obtain the GCS URL of the compound object for the series having <series_uuid>:  \n",
        "`f5d6b517-2c02-4035-9444-0f15be7180ff`:\n",
        "\n"
      ],
      "metadata": {
        "id": "s95_stTtLCq1"
      }
    },
    {
      "cell_type": "code",
      "source": [
        "!gsutil cat gs://crdcobj/f5d6b517-2c02-4035-9444-0f15be7180ff/crdcobj.json | jq"
      ],
      "metadata": {
        "id": "Qgpc6iZ4Ja8v"
      },
      "execution_count": null,
      "outputs": []
    },
    {
      "cell_type": "markdown",
      "source": [
        "We'll use this example throughout this notebook."
      ],
      "metadata": {
        "id": "gZ3E6Gg1WDO5"
      }
    },
    {
      "cell_type": "markdown",
      "source": [
        "## Obtaining Unsigned or Signed URLs for DICOM Instances\n",
        "The Hierarchical Instance Names notebook describes various methods for accessing the instances in a series based on hierarchical naming. This access method can only be used when access to the instance data does not require a signed URL. \n",
        "\n",
        "Currently all IDC data is accessible using an unsigned URLs, but, in the future, access to some data might require a signed URL. For this purpse, the `series object` includes a `children` access method.\n",
        "\n",
        "For demonstration purposes, we will assume that we have obtained the GCS URL, `gs:/crdcobj/f5d6b517-2c02-4035-9444-0f15be7180ff/crdcobj.json` of the previously discussed `series object`:\n",
        "\n"
      ],
      "metadata": {
        "id": "5EfBSQglMocT"
      }
    },
    {
      "cell_type": "code",
      "source": [
        "series_object_gcs_url = 'gs://crdcobj/f5d6b517-2c02-4035-9444-0f15be7180ff/crdcobj.json'"
      ],
      "metadata": {
        "id": "VUOzBZbjl2Nl"
      },
      "execution_count": null,
      "outputs": []
    },
    {
      "cell_type": "markdown",
      "source": [
        "Next we'll use the GCS API to get the contents of that folder object:"
      ],
      "metadata": {
        "id": "eZMBJgfkpTkB"
      }
    },
    {
      "cell_type": "code",
      "source": [
        "# Create a bucket object\n",
        "bucket = client.bucket(demo_bucket)\n",
        "# Extract the series_uuid from the URL\n",
        "series_uuid = f\"{series_object_gcs_url.split('/',3)[3]}\"\n",
        "# Create a blob object \n",
        "src_blob = bucket.blob(series_uuid)\n",
        "series_object = json.loads(src_blob.download_as_string())\n",
        "series_object"
      ],
      "metadata": {
        "id": "_4iYKvrHmy3z"
      },
      "execution_count": null,
      "outputs": []
    },
    {
      "cell_type": "markdown",
      "source": [
        "Now we can resolve each DRS URI to obtain a signed URL, and then access the corresponding blob. We'll first make a list of the instance DRS URIs"
      ],
      "metadata": {
        "id": "WloWbQzXp0_D"
      }
    },
    {
      "cell_type": "code",
      "source": [
        "# Try to find a 'children' access method\n",
        "method = next(item for item in series_object['access_methods'] if item['method'] == 'children')\n",
        "if method:\n",
        "  drs_ids = [content['drs_uri'].split('drs://')[1] for content in method['contents']]\n",
        "  for i, id in enumerate(drs_ids):\n",
        "    print(f'{i}: {id}')\n",
        "else:\n",
        "  print('A \"children\" access method was not found')\n",
        "\n"
      ],
      "metadata": {
        "id": "aFXMpz5NLQbp"
      },
      "execution_count": null,
      "outputs": []
    },
    {
      "cell_type": "markdown",
      "source": [
        "We can resolve each DRS ID to get the GCS URL of the instance blob and copy each blob to the local file system.\n",
        "\n",
        "Warning: This operation is very slow."
      ],
      "metadata": {
        "id": "U9M0wxfevRfl"
      }
    },
    {
      "cell_type": "code",
      "source": [
        "drs_server = 'https://nci-crdc.datacommons.io/ga4gh/drs/v1/objects'\n",
        "!mkdir -vp /tmp/dicom_data\n",
        "\n",
        "for drs_id in drs_ids:\n",
        "  url = f\"{drs_server}/{drs_id}\"\n",
        "  result = requests.get(url)\n",
        "  result.raise_for_status()\n",
        "  drsObject = result.json()\n",
        "  # We need the access_id to get the signed URL \n",
        "  access_id = drsObject['access_methods'][0]['access_id']\n",
        "  url = f'{url}/access/{access_id}'\n",
        "  # Get the signed URL\n",
        "  result = requests.get(url)\n",
        "  result.raise_for_status()\n",
        "  signed_url = result.json()['url']\n",
        "\n",
        "  # Use requests to get the blob contents\n",
        "  instance_blob_id = drs_id.split('/')[-1]\n",
        "  with open(f\"/tmp/dicom_data/{instance_blob_id}\", \"wb\") as file_obj:\n",
        "    result = requests.get(signed_url)\n",
        "    file_obj.write(result.content)\n",
        "  print(f'resolved and copied {drs_id}')\n",
        "\n",
        "# Demonstrate that we've downloaded the blobs.      \n",
        "!ls -l /tmp/dicom_data\n",
        "\n",
        "# Clean up\n",
        "!rm -vr /tmp/dicom_data\n",
        "\n",
        "\n",
        "\n"
      ],
      "metadata": {
        "id": "2kEiGujin9Xc"
      },
      "execution_count": null,
      "outputs": []
    },
    {
      "cell_type": "markdown",
      "source": [
        "Of course, if the instance data in a series can be accessed using unsigned URLs, we can use this same process, but just skipping the extra step to get a signed URL.\n",
        "\n",
        "We'll use the GCS library to copy the blobs."
      ],
      "metadata": {
        "id": "0gtv5PFM0kEa"
      }
    },
    {
      "cell_type": "code",
      "source": [
        "drs_server = 'https://nci-crdc.datacommons.io/ga4gh/drs/v1/objects'\n",
        "gcs_server = f'https://storage.googleapis.com'\n",
        "!mkdir -vp /tmp/dicom_data\n",
        "\n",
        "for drs_id in drs_ids:\n",
        "  url = f\"{drs_server}/{drs_id}\"\n",
        "  result = requests.get(url)\n",
        "  result.raise_for_status()\n",
        "  drsObject = result.json()\n",
        "  # We need the access_id to get the signed URL \n",
        "  unsigned_url = drsObject['access_methods'][0]['access_url']['url']\n",
        "\n",
        "  # Use requests to get the blob contents\n",
        "  bucket_id = unsigned_url.split('/')[2]\n",
        "  instance_blob_id = unsigned_url.split('/')[-1]\n",
        "  bucket = client.bucket(bucket_id)\n",
        "  with open(f\"/tmp/dicom_data/{instance_blob_id}\", \"wb\") as file_obj:\n",
        "     bucket.blob(instance_blob_id).download_to_file(file_obj)\n",
        "  print(f'resolved and copied {drs_id}')\n",
        "\n",
        "# Demonstrate that we've downloaded the blobs.      \n",
        "!ls -l /tmp/dicom_data\n",
        "\n",
        "# Clean up\n",
        "!rm -vr /tmp/dicom_data"
      ],
      "metadata": {
        "id": "jPyeKyXU0tSC"
      },
      "execution_count": null,
      "outputs": []
    },
    {
      "cell_type": "markdown",
      "source": [
        "## Obtaining Unsigned or Signed URLs of an Archive\n",
        "As mentioned, there might be an archive, such as a zip, of all the instances in some series. Such a blob might be freely accessible or might require a signed URL.\n",
        "\n",
        "For demonstration purposes, we will again assume that we have obtained the GCS URL, `gs:/crdcobj/f5d6b517-2c02-4035-9444-0f15be7180ff/crdcobj.json` of the previously discussed `series object`:"
      ],
      "metadata": {
        "id": "Tx_VhESSDOB9"
      }
    },
    {
      "cell_type": "code",
      "source": [
        "series_object_gcs_url = 'gs://crdcobj/f5d6b517-2c02-4035-9444-0f15be7180ff/crdcobj.json'"
      ],
      "metadata": {
        "id": "azJoLuVBEk5I"
      },
      "execution_count": null,
      "outputs": []
    },
    {
      "cell_type": "markdown",
      "source": [
        "Next we'll use the GCS API to get the contents of series  object:"
      ],
      "metadata": {
        "id": "0RLHL5DDDNs1"
      }
    },
    {
      "cell_type": "code",
      "source": [
        "# Split oout the bucket name\n",
        "bucket_name = series_object_gcs_url.split('/')[2]\n",
        "# Split out the series_uuid and create a blob object\n",
        "src_blob = client.bucket(bucket_name).blob(f\"{series_object_gcs_url.split('/',3)[3]}\")\n",
        "# Get the contents of the blob\n",
        "series_object = json.loads(src_blob.download_as_string())\n",
        "series_object"
      ],
      "metadata": {
        "id": "beDm_jspEtkG"
      },
      "execution_count": null,
      "outputs": []
    },
    {
      "cell_type": "markdown",
      "source": [
        "Get the `archive_package` access method from the series object:"
      ],
      "metadata": {
        "id": "HFiOiTyzMILS"
      }
    },
    {
      "cell_type": "code",
      "source": [
        "\n",
        "method = next(item for item in series_object['access_methods'] if item['method'] == 'archive_package')\n",
        "if method:\n",
        "  drs_uri = method['contents'][0]['drs_uri']\n",
        "  print(f'drs_uri: {drs_uri}')\n",
        "else:\n",
        "  print('A \"archive_package\" access method was not found')"
      ],
      "metadata": {
        "id": "BSyqu-aQMZwh"
      },
      "execution_count": null,
      "outputs": []
    },
    {
      "cell_type": "markdown",
      "source": [
        "Note that we have not yet created any such archives and therefore can't demonstrate resolving the DRS URI of such an object. However, the process is as for any other DRS URI."
      ],
      "metadata": {
        "id": "GTOrN8YBGyao"
      }
    },
    {
      "cell_type": "markdown",
      "source": [
        "## Using the instance name hierarchy\n",
        "\n",
        "The Hierarchical Instance Names notebook, previously mentioned, describes accessing the instances in a series when given the `folder object` of the series. If we have a `series object`, we can obtain the GCS URL of its folder object:\n",
        "\n",
        "1. Resolve the DRS URI in the 'folder_object' method in the series's compound object (shown as `drs://dg.4DFC/some_TBD_uuid' in the above ecxample...we've not yet generated these UUIDs.)\n",
        "2. Resolving the DRS URI will return a DrsObject. An `AccessURL` in the DrsObject will contain a `url` whose value is the GCS URL of the folder object.\n",
        "\n",
        "The following example obtains the folder object DRS URI from the same series_object used to obtain the archive DRS URI. We cannot demonstrate this because we have not generated DRS URIs for folder objects."
      ],
      "metadata": {
        "id": "eFFRPHdAz7FW"
      }
    },
    {
      "cell_type": "code",
      "source": [
        "method = next(item for item in series_object['access_methods'] if item['method'] == 'folder_object')\n",
        "if method:\n",
        "  drs_uri = method['contents'][0]['drs_uri']\n",
        "  print(f'drs_uri: {drs_uri}')\n",
        "else:\n",
        "  print('A \"folder_object\" access method was not found')"
      ],
      "metadata": {
        "id": "XgVZP5M6rcOp"
      },
      "execution_count": null,
      "outputs": []
    },
    {
      "cell_type": "markdown",
      "source": [
        "We cannot demonstrate resolving this DRS URI because we have not yet indexed folder objects."
      ],
      "metadata": {
        "id": "pGUW5MXGtfU4"
      }
    }
  ]
}